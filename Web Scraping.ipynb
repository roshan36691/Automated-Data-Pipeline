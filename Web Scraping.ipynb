{
 "cells": [
  {
   "cell_type": "markdown",
   "id": "4f9fea1f",
   "metadata": {},
   "source": [
    "# Automated web scraping strategy for autocarindia website"
   ]
  },
  {
   "cell_type": "markdown",
   "id": "9ecfe19c",
   "metadata": {},
   "source": [
    "## Importing libraries and Variable Initialization"
   ]
  },
  {
   "cell_type": "code",
   "execution_count": 1,
   "id": "9e0fdc66",
   "metadata": {},
   "outputs": [],
   "source": [
    "import requests\n",
    "import pandas as pd\n",
    "import numpy as np\n",
    "from bs4 import BeautifulSoup\n",
    "import matplotlib.pyplot as plt\n",
    "import seaborn as sns\n",
    "\n",
    "\n",
    "vehicle_names = [];\n",
    "vehicle_prices = [];\n",
    "vehicle_ratings = [];\n",
    "vehicle_engines = [];\n",
    "vehicle_torque_nm = [];\n",
    "vehicle_torque_rpm = [];\n",
    "vehicle_kerb_weights = [];\n",
    "vehicle_mileages = [];"
   ]
  },
  {
   "cell_type": "markdown",
   "id": "dcc007f2",
   "metadata": {},
   "source": [
    "## for loop for Web Scraping"
   ]
  },
  {
   "cell_type": "code",
   "execution_count": 2,
   "id": "4ff82521",
   "metadata": {
    "scrolled": true
   },
   "outputs": [],
   "source": [
    "for i in range(1,5):\n",
    "    html_code = requests.get('https://www.autocarindia.com/bikes/bikes-under-2-lakhs/' + str(i)).text\n",
    "    page = BeautifulSoup(html_code, 'html.parser')\n",
    "\n",
    "    vehicle_sections = page.find_all(class_='car-lis-sec')\n",
    "    vehicle_sections\n",
    "\n",
    "    for vehicle_section in vehicle_sections:\n",
    "\n",
    "        name = vehicle_section.select_one(\".heading-h4\")\n",
    "        if name:\n",
    "            name = name.get_text()\n",
    "        else:\n",
    "            name = ''        \n",
    "        vehicle_names.append(name)\n",
    "\n",
    "        price = vehicle_section.select_one(\".price-model\")\n",
    "        if price:\n",
    "            price = price.get_text().replace(\"₹\", \"\")\n",
    "        else:\n",
    "            price = ''\n",
    "        \n",
    "        if(\"-\" in price):\n",
    "            \n",
    "            price_left = price.split(\"-\")[0].replace(\",\", \"\").strip()\n",
    "            price_right = price.split(\"-\")[1].replace(\",\", \"\").strip()\n",
    "            \n",
    "            if \" lakh\" in price_left:\n",
    "                price_left = price_left.replace(\" lakh\", \"\").strip()\n",
    "                price_left = float(price_left) * 100000 \n",
    "                \n",
    "            if \" lakh\" in price_right:\n",
    "                price_right = price_right.replace(\" lakh\", \"\").strip()\n",
    "                price_right = float(price_right) * 100000\n",
    "            \n",
    "            price_left = float(price_left)\n",
    "            price_right = float(price_right)\n",
    "            \n",
    "            price = (price_left + price_right) / 2\n",
    "        else:\n",
    "            if \" lakh\" in price:\n",
    "                price = price.replace(\" lakh\", \"\").strip()\n",
    "                price = float(price) * 100000 \n",
    "            price = float(str(price).replace(\",\", \"\").strip())\n",
    "            \n",
    "        vehicle_prices.append(price)\n",
    "\n",
    "        rating = vehicle_section.select_one(\".autocar-rating\")\n",
    "        if(rating):\n",
    "            vehicle_ratings.append(rating.get_text().split('(')[1].split('/')[0].strip())\n",
    "        else:\n",
    "            vehicle_ratings.append(np.NAN)\n",
    "\n",
    "        infos = vehicle_section.find_all(class_=\"car-dis-sec\")\n",
    "\n",
    "        engine = infos[0].find_all(\"p\")[1].get_text().strip()\n",
    "        if(engine == \"BLDC\"):\n",
    "            engine = np.NAN\n",
    "        else:    \n",
    "            engine = engine.replace(\"cc\", \"\")\n",
    "        if \"-\" in str(engine):\n",
    "            engine_left = engine.split(\"-\")[0].strip()\n",
    "            engine_right = engine.split(\"-\")[1].strip()\n",
    "            engine = (float(engine_left) + float(engine_right)) / 2\n",
    "        elif \"NA\" not in str(engine):\n",
    "            engine = float(engine)\n",
    "        else:\n",
    "            engine = np.NAN\n",
    "            \n",
    "        vehicle_engines.append(engine)\n",
    "\n",
    "        torque = infos[1].find_all(\"p\")[1].get_text()\n",
    "        parts = torque.split('@')\n",
    "        \n",
    "        nm = np.NAN\n",
    "        rpm = np.NAN\n",
    "        if len(parts) == 2:\n",
    "            nm = parts[0].replace(\"Nm\", \"\").replace(\",\", \"\").strip()\n",
    "            rpm = parts[1].replace(\"rpm\", \"\").replace(\",\", \"\").strip()\n",
    "        else:\n",
    "            parts = torque.split('at')\n",
    "            if len(parts) == 2:\n",
    "                nm = parts[0].replace(\"Nm\", \"\").replace(\",\", \"\").strip()\n",
    "                rpm = parts[1].replace(\"rpm\", \"\").replace(\",\", \"\").strip()\n",
    "        \n",
    "        if not str(nm).isdigit():\n",
    "            nm = np.NAN\n",
    "        if not str(rpm).isdigit():\n",
    "            rpm = np.NAN\n",
    "        \n",
    "        vehicle_torque_nm.append(nm)\n",
    "        vehicle_torque_rpm.append(rpm)\n",
    "        \n",
    "        kerb_weight = infos[2].find_all(\"p\")[1].get_text()\n",
    "        kerb_weight = kerb_weight.replace(\"kg\", \"\").strip()\n",
    "        \n",
    "        if \"-\" in kerb_weight:\n",
    "            kerb_weight_left = kerb_weight.split(\"-\")[0].strip()\n",
    "            kerb_weight_right = kerb_weight.split(\"-\")[1].strip()\n",
    "            kerb_weight = (float(kerb_weight_left) + float(kerb_weight_right)) / 2\n",
    "        \n",
    "        kerb_weight = int(kerb_weight)\n",
    "        vehicle_kerb_weights.append(kerb_weight)\n",
    "\n",
    "        vehicle_mileages.append(infos[3].find_all(\"p\")[1].get_text())"
   ]
  },
  {
   "cell_type": "markdown",
   "id": "cab31ae1",
   "metadata": {},
   "source": [
    "##  aggregate the data into a dictionary and then converted into a DataFrame"
   ]
  },
  {
   "cell_type": "code",
   "execution_count": 3,
   "id": "7c80cd1a",
   "metadata": {},
   "outputs": [
    {
     "data": {
      "text/html": [
       "<div>\n",
       "<style scoped>\n",
       "    .dataframe tbody tr th:only-of-type {\n",
       "        vertical-align: middle;\n",
       "    }\n",
       "\n",
       "    .dataframe tbody tr th {\n",
       "        vertical-align: top;\n",
       "    }\n",
       "\n",
       "    .dataframe thead th {\n",
       "        text-align: right;\n",
       "    }\n",
       "</style>\n",
       "<table border=\"1\" class=\"dataframe\">\n",
       "  <thead>\n",
       "    <tr style=\"text-align: right;\">\n",
       "      <th></th>\n",
       "      <th>name</th>\n",
       "      <th>price(₹)</th>\n",
       "      <th>rating</th>\n",
       "      <th>engine (cc)</th>\n",
       "      <th>torque_nm</th>\n",
       "      <th>torque_rpm</th>\n",
       "      <th>kerb_weight(kg)</th>\n",
       "      <th>mileage</th>\n",
       "    </tr>\n",
       "  </thead>\n",
       "  <tbody>\n",
       "    <tr>\n",
       "      <th>0</th>\n",
       "      <td>TVS XL 100 Comfort</td>\n",
       "      <td>49584.000</td>\n",
       "      <td>7</td>\n",
       "      <td>99.70</td>\n",
       "      <td>NaN</td>\n",
       "      <td>3500</td>\n",
       "      <td>88</td>\n",
       "      <td>NA</td>\n",
       "    </tr>\n",
       "    <tr>\n",
       "      <th>1</th>\n",
       "      <td>Joy E-bike Honeybee</td>\n",
       "      <td>52456.000</td>\n",
       "      <td>NaN</td>\n",
       "      <td>NaN</td>\n",
       "      <td>NaN</td>\n",
       "      <td>NaN</td>\n",
       "      <td>35</td>\n",
       "      <td>40km</td>\n",
       "    </tr>\n",
       "    <tr>\n",
       "      <th>2</th>\n",
       "      <td>Hero MotoCorp HF Deluxe</td>\n",
       "      <td>65537.500</td>\n",
       "      <td>NaN</td>\n",
       "      <td>97.20</td>\n",
       "      <td>NaN</td>\n",
       "      <td>6000</td>\n",
       "      <td>112</td>\n",
       "      <td>NA</td>\n",
       "    </tr>\n",
       "    <tr>\n",
       "      <th>3</th>\n",
       "      <td>TVS XL 100 Heavy Duty</td>\n",
       "      <td>66501.000</td>\n",
       "      <td>7</td>\n",
       "      <td>99.70</td>\n",
       "      <td>NaN</td>\n",
       "      <td>3500</td>\n",
       "      <td>89</td>\n",
       "      <td>55kpl</td>\n",
       "    </tr>\n",
       "    <tr>\n",
       "      <th>4</th>\n",
       "      <td>TVS Sport</td>\n",
       "      <td>72231.000</td>\n",
       "      <td>NaN</td>\n",
       "      <td>109.70</td>\n",
       "      <td>NaN</td>\n",
       "      <td>4500</td>\n",
       "      <td>111</td>\n",
       "      <td>75kpl</td>\n",
       "    </tr>\n",
       "    <tr>\n",
       "      <th>5</th>\n",
       "      <td>Hero MotoCorp Pleasure+</td>\n",
       "      <td>69566.000</td>\n",
       "      <td>7</td>\n",
       "      <td>110.90</td>\n",
       "      <td>NaN</td>\n",
       "      <td>5500</td>\n",
       "      <td>104</td>\n",
       "      <td>NA</td>\n",
       "    </tr>\n",
       "    <tr>\n",
       "      <th>6</th>\n",
       "      <td>Hero MotoCorp HF Deluxe i3s</td>\n",
       "      <td>71414.000</td>\n",
       "      <td>NaN</td>\n",
       "      <td>97.20</td>\n",
       "      <td>NaN</td>\n",
       "      <td>6000</td>\n",
       "      <td>112</td>\n",
       "      <td>NA</td>\n",
       "    </tr>\n",
       "    <tr>\n",
       "      <th>7</th>\n",
       "      <td>Gemopai Ryder</td>\n",
       "      <td>72800.000</td>\n",
       "      <td>NaN</td>\n",
       "      <td>NaN</td>\n",
       "      <td>NaN</td>\n",
       "      <td>NaN</td>\n",
       "      <td>80</td>\n",
       "      <td>90km</td>\n",
       "    </tr>\n",
       "    <tr>\n",
       "      <th>8</th>\n",
       "      <td>TVS Radeon</td>\n",
       "      <td>77262.500</td>\n",
       "      <td>8</td>\n",
       "      <td>109.70</td>\n",
       "      <td>NaN</td>\n",
       "      <td>4500</td>\n",
       "      <td>117</td>\n",
       "      <td>NA</td>\n",
       "    </tr>\n",
       "    <tr>\n",
       "      <th>9</th>\n",
       "      <td>Hero MotoCorp Splendor Plus</td>\n",
       "      <td>80803.500</td>\n",
       "      <td>NaN</td>\n",
       "      <td>NaN</td>\n",
       "      <td>NaN</td>\n",
       "      <td>NaN</td>\n",
       "      <td>111</td>\n",
       "      <td>NA</td>\n",
       "    </tr>\n",
       "    <tr>\n",
       "      <th>10</th>\n",
       "      <td>Honda Bikes CD 110 Dream</td>\n",
       "      <td>78583.500</td>\n",
       "      <td>NaN</td>\n",
       "      <td>109.51</td>\n",
       "      <td>NaN</td>\n",
       "      <td>5500</td>\n",
       "      <td>112</td>\n",
       "      <td>NA</td>\n",
       "    </tr>\n",
       "    <tr>\n",
       "      <th>11</th>\n",
       "      <td>Honda Bikes Shine 100</td>\n",
       "      <td>78459.000</td>\n",
       "      <td>NaN</td>\n",
       "      <td>98.98</td>\n",
       "      <td>NaN</td>\n",
       "      <td>5000</td>\n",
       "      <td>99</td>\n",
       "      <td>NA</td>\n",
       "    </tr>\n",
       "    <tr>\n",
       "      <th>12</th>\n",
       "      <td>Hero MotoCorp Passion Pro</td>\n",
       "      <td>80711.500</td>\n",
       "      <td>8</td>\n",
       "      <td>110.00</td>\n",
       "      <td>NaN</td>\n",
       "      <td>5000</td>\n",
       "      <td>117</td>\n",
       "      <td>NA</td>\n",
       "    </tr>\n",
       "    <tr>\n",
       "      <th>13</th>\n",
       "      <td>Hero MotoCorp Destini 125</td>\n",
       "      <td>88853.500</td>\n",
       "      <td>NaN</td>\n",
       "      <td>124.30</td>\n",
       "      <td>NaN</td>\n",
       "      <td>NaN</td>\n",
       "      <td>113</td>\n",
       "      <td>NA</td>\n",
       "    </tr>\n",
       "    <tr>\n",
       "      <th>14</th>\n",
       "      <td>TVS Star City Plus</td>\n",
       "      <td>79570.000</td>\n",
       "      <td>NaN</td>\n",
       "      <td>109.70</td>\n",
       "      <td>NaN</td>\n",
       "      <td>4500</td>\n",
       "      <td>116</td>\n",
       "      <td>NA</td>\n",
       "    </tr>\n",
       "    <tr>\n",
       "      <th>15</th>\n",
       "      <td>Bajaj Platina 100</td>\n",
       "      <td>81817.000</td>\n",
       "      <td>NaN</td>\n",
       "      <td>102.00</td>\n",
       "      <td>NaN</td>\n",
       "      <td>5500</td>\n",
       "      <td>117</td>\n",
       "      <td>NA</td>\n",
       "    </tr>\n",
       "    <tr>\n",
       "      <th>16</th>\n",
       "      <td>Bajaj CT 110X</td>\n",
       "      <td>83444.000</td>\n",
       "      <td>NaN</td>\n",
       "      <td>115.45</td>\n",
       "      <td>NaN</td>\n",
       "      <td>5000</td>\n",
       "      <td>127</td>\n",
       "      <td>NA</td>\n",
       "    </tr>\n",
       "    <tr>\n",
       "      <th>17</th>\n",
       "      <td>Hero MotoCorp Maestro Edge 125</td>\n",
       "      <td>85042.500</td>\n",
       "      <td>NaN</td>\n",
       "      <td>124.60</td>\n",
       "      <td>NaN</td>\n",
       "      <td>5500</td>\n",
       "      <td>111</td>\n",
       "      <td>NA</td>\n",
       "    </tr>\n",
       "    <tr>\n",
       "      <th>18</th>\n",
       "      <td>Honda Bikes Shine</td>\n",
       "      <td>86388.000</td>\n",
       "      <td>NaN</td>\n",
       "      <td>124.00</td>\n",
       "      <td>11</td>\n",
       "      <td>6000</td>\n",
       "      <td>114</td>\n",
       "      <td>NA</td>\n",
       "    </tr>\n",
       "    <tr>\n",
       "      <th>19</th>\n",
       "      <td>Hero MotoCorp Super Splendor</td>\n",
       "      <td>90574.500</td>\n",
       "      <td>NaN</td>\n",
       "      <td>124.35</td>\n",
       "      <td>NaN</td>\n",
       "      <td>NaN</td>\n",
       "      <td>122</td>\n",
       "      <td>NA</td>\n",
       "    </tr>\n",
       "    <tr>\n",
       "      <th>20</th>\n",
       "      <td>Yamaha Ray ZR 125</td>\n",
       "      <td>86116.000</td>\n",
       "      <td>7</td>\n",
       "      <td>125.00</td>\n",
       "      <td>NaN</td>\n",
       "      <td>5000</td>\n",
       "      <td>99</td>\n",
       "      <td>NA</td>\n",
       "    </tr>\n",
       "    <tr>\n",
       "      <th>21</th>\n",
       "      <td>Honda Bikes Livo</td>\n",
       "      <td>86842.500</td>\n",
       "      <td>NaN</td>\n",
       "      <td>109.51</td>\n",
       "      <td>NaN</td>\n",
       "      <td>5500</td>\n",
       "      <td>115</td>\n",
       "      <td>NA</td>\n",
       "    </tr>\n",
       "    <tr>\n",
       "      <th>22</th>\n",
       "      <td>Bajaj Platina 110 H-Gear</td>\n",
       "      <td>84812.000</td>\n",
       "      <td>NaN</td>\n",
       "      <td>115.45</td>\n",
       "      <td>NaN</td>\n",
       "      <td>5000</td>\n",
       "      <td>122</td>\n",
       "      <td>NA</td>\n",
       "    </tr>\n",
       "    <tr>\n",
       "      <th>23</th>\n",
       "      <td>Bajaj CT 125X</td>\n",
       "      <td>87761.000</td>\n",
       "      <td>NaN</td>\n",
       "      <td>124.40</td>\n",
       "      <td>11</td>\n",
       "      <td>5500</td>\n",
       "      <td>130</td>\n",
       "      <td>NA</td>\n",
       "    </tr>\n",
       "    <tr>\n",
       "      <th>24</th>\n",
       "      <td>Joy E-bike Gen Nxt</td>\n",
       "      <td>86082.000</td>\n",
       "      <td>NaN</td>\n",
       "      <td>NaN</td>\n",
       "      <td>NaN</td>\n",
       "      <td>NaN</td>\n",
       "      <td>67</td>\n",
       "      <td>60km</td>\n",
       "    </tr>\n",
       "    <tr>\n",
       "      <th>25</th>\n",
       "      <td>Joy E-bike Wolf</td>\n",
       "      <td>90125.000</td>\n",
       "      <td>NaN</td>\n",
       "      <td>NaN</td>\n",
       "      <td>NaN</td>\n",
       "      <td>NaN</td>\n",
       "      <td>67</td>\n",
       "      <td>NA</td>\n",
       "    </tr>\n",
       "    <tr>\n",
       "      <th>26</th>\n",
       "      <td>Bajaj Platina 110 ABS</td>\n",
       "      <td>91353.000</td>\n",
       "      <td>NaN</td>\n",
       "      <td>115.45</td>\n",
       "      <td>NaN</td>\n",
       "      <td>5000</td>\n",
       "      <td>123</td>\n",
       "      <td>NA</td>\n",
       "    </tr>\n",
       "    <tr>\n",
       "      <th>27</th>\n",
       "      <td>Hero MotoCorp Passion Plus</td>\n",
       "      <td>91627.000</td>\n",
       "      <td>NaN</td>\n",
       "      <td>97.20</td>\n",
       "      <td>NaN</td>\n",
       "      <td>6000</td>\n",
       "      <td>115</td>\n",
       "      <td>NA</td>\n",
       "    </tr>\n",
       "    <tr>\n",
       "      <th>28</th>\n",
       "      <td>Hero MotoCorp New Glamour</td>\n",
       "      <td>98818.000</td>\n",
       "      <td>NaN</td>\n",
       "      <td>124.70</td>\n",
       "      <td>NaN</td>\n",
       "      <td>6000</td>\n",
       "      <td>122</td>\n",
       "      <td>NA</td>\n",
       "    </tr>\n",
       "    <tr>\n",
       "      <th>29</th>\n",
       "      <td>Suzuki Access 125</td>\n",
       "      <td>98557.000</td>\n",
       "      <td>NaN</td>\n",
       "      <td>124.00</td>\n",
       "      <td>10</td>\n",
       "      <td>5500</td>\n",
       "      <td>103</td>\n",
       "      <td>48kpl</td>\n",
       "    </tr>\n",
       "    <tr>\n",
       "      <th>30</th>\n",
       "      <td>Hero MotoCorp Glamour</td>\n",
       "      <td>100805.500</td>\n",
       "      <td>NaN</td>\n",
       "      <td>124.70</td>\n",
       "      <td>NaN</td>\n",
       "      <td>6000</td>\n",
       "      <td>121</td>\n",
       "      <td>NA</td>\n",
       "    </tr>\n",
       "    <tr>\n",
       "      <th>31</th>\n",
       "      <td>Bajaj Pulsar 125</td>\n",
       "      <td>105419.000</td>\n",
       "      <td>NaN</td>\n",
       "      <td>124.40</td>\n",
       "      <td>NaN</td>\n",
       "      <td>NaN</td>\n",
       "      <td>141</td>\n",
       "      <td>NA</td>\n",
       "    </tr>\n",
       "    <tr>\n",
       "      <th>32</th>\n",
       "      <td>Honda Bikes SP 125</td>\n",
       "      <td>53000.505</td>\n",
       "      <td>9</td>\n",
       "      <td>124.00</td>\n",
       "      <td>NaN</td>\n",
       "      <td>6000</td>\n",
       "      <td>117</td>\n",
       "      <td>65kpl</td>\n",
       "    </tr>\n",
       "    <tr>\n",
       "      <th>33</th>\n",
       "      <td>Suzuki Avenis</td>\n",
       "      <td>52000.515</td>\n",
       "      <td>NaN</td>\n",
       "      <td>124.30</td>\n",
       "      <td>10</td>\n",
       "      <td>5500</td>\n",
       "      <td>106</td>\n",
       "      <td>NA</td>\n",
       "    </tr>\n",
       "    <tr>\n",
       "      <th>34</th>\n",
       "      <td>Hero MotoCorp Glamour XTEC</td>\n",
       "      <td>55000.520</td>\n",
       "      <td>NaN</td>\n",
       "      <td>124.70</td>\n",
       "      <td>NaN</td>\n",
       "      <td>6000</td>\n",
       "      <td>122</td>\n",
       "      <td>NA</td>\n",
       "    </tr>\n",
       "    <tr>\n",
       "      <th>35</th>\n",
       "      <td>TVS Raider 125</td>\n",
       "      <td>60000.555</td>\n",
       "      <td>NaN</td>\n",
       "      <td>124.80</td>\n",
       "      <td>NaN</td>\n",
       "      <td>NaN</td>\n",
       "      <td>123</td>\n",
       "      <td>60kpl</td>\n",
       "    </tr>\n",
       "    <tr>\n",
       "      <th>36</th>\n",
       "      <td>Bajaj Pulsar NS125</td>\n",
       "      <td>118000.000</td>\n",
       "      <td>NaN</td>\n",
       "      <td>124.45</td>\n",
       "      <td>11</td>\n",
       "      <td>7000</td>\n",
       "      <td>144</td>\n",
       "      <td>49kpl</td>\n",
       "    </tr>\n",
       "    <tr>\n",
       "      <th>37</th>\n",
       "      <td>Bajaj Avenger Street 160</td>\n",
       "      <td>120000.000</td>\n",
       "      <td>NaN</td>\n",
       "      <td>160.00</td>\n",
       "      <td>NaN</td>\n",
       "      <td>7000</td>\n",
       "      <td>156</td>\n",
       "      <td>NA</td>\n",
       "    </tr>\n",
       "    <tr>\n",
       "      <th>38</th>\n",
       "      <td>Yamaha FZ S FI</td>\n",
       "      <td>63000.620</td>\n",
       "      <td>NaN</td>\n",
       "      <td>149.00</td>\n",
       "      <td>NaN</td>\n",
       "      <td>5500</td>\n",
       "      <td>136</td>\n",
       "      <td>NA</td>\n",
       "    </tr>\n",
       "    <tr>\n",
       "      <th>39</th>\n",
       "      <td>Yamaha FZ FI</td>\n",
       "      <td>125000.000</td>\n",
       "      <td>NaN</td>\n",
       "      <td>149.00</td>\n",
       "      <td>NaN</td>\n",
       "      <td>5500</td>\n",
       "      <td>137</td>\n",
       "      <td>NA</td>\n",
       "    </tr>\n",
       "  </tbody>\n",
       "</table>\n",
       "</div>"
      ],
      "text/plain": [
       "                              name    price(₹) rating  engine (cc) torque_nm  \\\n",
       "0               TVS XL 100 Comfort   49584.000      7        99.70       NaN   \n",
       "1              Joy E-bike Honeybee   52456.000    NaN          NaN       NaN   \n",
       "2          Hero MotoCorp HF Deluxe   65537.500    NaN        97.20       NaN   \n",
       "3            TVS XL 100 Heavy Duty   66501.000      7        99.70       NaN   \n",
       "4                        TVS Sport   72231.000    NaN       109.70       NaN   \n",
       "5          Hero MotoCorp Pleasure+   69566.000      7       110.90       NaN   \n",
       "6      Hero MotoCorp HF Deluxe i3s   71414.000    NaN        97.20       NaN   \n",
       "7                    Gemopai Ryder   72800.000    NaN          NaN       NaN   \n",
       "8                       TVS Radeon   77262.500      8       109.70       NaN   \n",
       "9      Hero MotoCorp Splendor Plus   80803.500    NaN          NaN       NaN   \n",
       "10        Honda Bikes CD 110 Dream   78583.500    NaN       109.51       NaN   \n",
       "11           Honda Bikes Shine 100   78459.000    NaN        98.98       NaN   \n",
       "12       Hero MotoCorp Passion Pro   80711.500      8       110.00       NaN   \n",
       "13       Hero MotoCorp Destini 125   88853.500    NaN       124.30       NaN   \n",
       "14              TVS Star City Plus   79570.000    NaN       109.70       NaN   \n",
       "15               Bajaj Platina 100   81817.000    NaN       102.00       NaN   \n",
       "16                   Bajaj CT 110X   83444.000    NaN       115.45       NaN   \n",
       "17  Hero MotoCorp Maestro Edge 125   85042.500    NaN       124.60       NaN   \n",
       "18               Honda Bikes Shine   86388.000    NaN       124.00        11   \n",
       "19    Hero MotoCorp Super Splendor   90574.500    NaN       124.35       NaN   \n",
       "20               Yamaha Ray ZR 125   86116.000      7       125.00       NaN   \n",
       "21                Honda Bikes Livo   86842.500    NaN       109.51       NaN   \n",
       "22        Bajaj Platina 110 H-Gear   84812.000    NaN       115.45       NaN   \n",
       "23                   Bajaj CT 125X   87761.000    NaN       124.40        11   \n",
       "24              Joy E-bike Gen Nxt   86082.000    NaN          NaN       NaN   \n",
       "25                 Joy E-bike Wolf   90125.000    NaN          NaN       NaN   \n",
       "26           Bajaj Platina 110 ABS   91353.000    NaN       115.45       NaN   \n",
       "27      Hero MotoCorp Passion Plus   91627.000    NaN        97.20       NaN   \n",
       "28       Hero MotoCorp New Glamour   98818.000    NaN       124.70       NaN   \n",
       "29               Suzuki Access 125   98557.000    NaN       124.00        10   \n",
       "30           Hero MotoCorp Glamour  100805.500    NaN       124.70       NaN   \n",
       "31                Bajaj Pulsar 125  105419.000    NaN       124.40       NaN   \n",
       "32              Honda Bikes SP 125   53000.505      9       124.00       NaN   \n",
       "33                   Suzuki Avenis   52000.515    NaN       124.30        10   \n",
       "34      Hero MotoCorp Glamour XTEC   55000.520    NaN       124.70       NaN   \n",
       "35                  TVS Raider 125   60000.555    NaN       124.80       NaN   \n",
       "36              Bajaj Pulsar NS125  118000.000    NaN       124.45        11   \n",
       "37        Bajaj Avenger Street 160  120000.000    NaN       160.00       NaN   \n",
       "38                  Yamaha FZ S FI   63000.620    NaN       149.00       NaN   \n",
       "39                    Yamaha FZ FI  125000.000    NaN       149.00       NaN   \n",
       "\n",
       "   torque_rpm  kerb_weight(kg) mileage  \n",
       "0        3500               88      NA  \n",
       "1         NaN               35    40km  \n",
       "2        6000              112      NA  \n",
       "3        3500               89   55kpl  \n",
       "4        4500              111   75kpl  \n",
       "5        5500              104      NA  \n",
       "6        6000              112      NA  \n",
       "7         NaN               80    90km  \n",
       "8        4500              117      NA  \n",
       "9         NaN              111      NA  \n",
       "10       5500              112      NA  \n",
       "11       5000               99      NA  \n",
       "12       5000              117      NA  \n",
       "13        NaN              113      NA  \n",
       "14       4500              116      NA  \n",
       "15       5500              117      NA  \n",
       "16       5000              127      NA  \n",
       "17       5500              111      NA  \n",
       "18       6000              114      NA  \n",
       "19        NaN              122      NA  \n",
       "20       5000               99      NA  \n",
       "21       5500              115      NA  \n",
       "22       5000              122      NA  \n",
       "23       5500              130      NA  \n",
       "24        NaN               67    60km  \n",
       "25        NaN               67      NA  \n",
       "26       5000              123      NA  \n",
       "27       6000              115      NA  \n",
       "28       6000              122      NA  \n",
       "29       5500              103   48kpl  \n",
       "30       6000              121      NA  \n",
       "31        NaN              141      NA  \n",
       "32       6000              117   65kpl  \n",
       "33       5500              106      NA  \n",
       "34       6000              122      NA  \n",
       "35        NaN              123   60kpl  \n",
       "36       7000              144   49kpl  \n",
       "37       7000              156      NA  \n",
       "38       5500              136      NA  \n",
       "39       5500              137      NA  "
      ]
     },
     "execution_count": 3,
     "metadata": {},
     "output_type": "execute_result"
    }
   ],
   "source": [
    "vehicle_data = {'name': vehicle_names, 'price(₹)': vehicle_prices, 'rating': vehicle_ratings, 'engine (cc)': vehicle_engines, 'torque_nm': vehicle_torque_nm, 'torque_rpm': vehicle_torque_rpm, 'kerb_weight(kg)': vehicle_kerb_weights, 'mileage': vehicle_mileages}\n",
    "vehicle_df = pd.DataFrame(vehicle_data)\n",
    "vehicle_df"
   ]
  },
  {
   "cell_type": "code",
   "execution_count": 4,
   "id": "8e5a5852",
   "metadata": {},
   "outputs": [
    {
     "name": "stdout",
     "output_type": "stream",
     "text": [
      "vehicle_df Dataset has 82 missing values\n"
     ]
    }
   ],
   "source": [
    "# Checking for empty cells\n",
    "print(\"vehicle_df Dataset has\",vehicle_df.isnull().values.sum(), \"missing values\")"
   ]
  },
  {
   "cell_type": "markdown",
   "id": "a8b2c52f",
   "metadata": {},
   "source": [
    "## Summary Statistics"
   ]
  },
  {
   "cell_type": "code",
   "execution_count": 5,
   "id": "2e7e7476",
   "metadata": {},
   "outputs": [
    {
     "data": {
      "text/html": [
       "<div>\n",
       "<style scoped>\n",
       "    .dataframe tbody tr th:only-of-type {\n",
       "        vertical-align: middle;\n",
       "    }\n",
       "\n",
       "    .dataframe tbody tr th {\n",
       "        vertical-align: top;\n",
       "    }\n",
       "\n",
       "    .dataframe thead th {\n",
       "        text-align: right;\n",
       "    }\n",
       "</style>\n",
       "<table border=\"1\" class=\"dataframe\">\n",
       "  <thead>\n",
       "    <tr style=\"text-align: right;\">\n",
       "      <th></th>\n",
       "      <th>price(₹)</th>\n",
       "      <th>engine (cc)</th>\n",
       "      <th>kerb_weight(kg)</th>\n",
       "    </tr>\n",
       "  </thead>\n",
       "  <tbody>\n",
       "    <tr>\n",
       "      <th>count</th>\n",
       "      <td>40.000000</td>\n",
       "      <td>35.000000</td>\n",
       "      <td>40.000000</td>\n",
       "    </tr>\n",
       "    <tr>\n",
       "      <th>mean</th>\n",
       "      <td>81647.992875</td>\n",
       "      <td>118.058571</td>\n",
       "      <td>111.825000</td>\n",
       "    </tr>\n",
       "    <tr>\n",
       "      <th>std</th>\n",
       "      <td>18109.850184</td>\n",
       "      <td>14.733698</td>\n",
       "      <td>22.096394</td>\n",
       "    </tr>\n",
       "    <tr>\n",
       "      <th>min</th>\n",
       "      <td>49584.000000</td>\n",
       "      <td>97.200000</td>\n",
       "      <td>35.000000</td>\n",
       "    </tr>\n",
       "    <tr>\n",
       "      <th>25%</th>\n",
       "      <td>70952.000000</td>\n",
       "      <td>109.605000</td>\n",
       "      <td>105.500000</td>\n",
       "    </tr>\n",
       "    <tr>\n",
       "      <th>50%</th>\n",
       "      <td>82630.500000</td>\n",
       "      <td>124.000000</td>\n",
       "      <td>115.000000</td>\n",
       "    </tr>\n",
       "    <tr>\n",
       "      <th>75%</th>\n",
       "      <td>90237.375000</td>\n",
       "      <td>124.525000</td>\n",
       "      <td>122.000000</td>\n",
       "    </tr>\n",
       "    <tr>\n",
       "      <th>max</th>\n",
       "      <td>125000.000000</td>\n",
       "      <td>160.000000</td>\n",
       "      <td>156.000000</td>\n",
       "    </tr>\n",
       "  </tbody>\n",
       "</table>\n",
       "</div>"
      ],
      "text/plain": [
       "            price(₹)  engine (cc)  kerb_weight(kg)\n",
       "count      40.000000    35.000000        40.000000\n",
       "mean    81647.992875   118.058571       111.825000\n",
       "std     18109.850184    14.733698        22.096394\n",
       "min     49584.000000    97.200000        35.000000\n",
       "25%     70952.000000   109.605000       105.500000\n",
       "50%     82630.500000   124.000000       115.000000\n",
       "75%     90237.375000   124.525000       122.000000\n",
       "max    125000.000000   160.000000       156.000000"
      ]
     },
     "execution_count": 5,
     "metadata": {},
     "output_type": "execute_result"
    }
   ],
   "source": [
    "vehicle_df.describe()"
   ]
  },
  {
   "cell_type": "markdown",
   "id": "350f03bf",
   "metadata": {},
   "source": [
    "- Price: The average price of the vehicles in the dataset is ₹81,647.99, with a standard deviation of ₹18,109.85. The price range varies significantly, from ₹49,584 to ₹125,000.\n",
    "- Rating: The average rating is 7.57, on a scale of 10.\n",
    "- Engine Size (cc): The engine sizes range from 97.2 cc to 160 cc, with an average size of 118.06 cc.\n",
    "- Torque: The average torque is 10.6 Nm, with a range from 10 Nm to 11 Nm. \n",
    "- Torque RPM: The average Torque RPM is around 5403, with a range from 3500 RPM to 7000 RPM.\n",
    "- Kerb Weight: The average kerb weight is 111.83 kg, ranging from 35 kg to 156 kg."
   ]
  },
  {
   "cell_type": "code",
   "execution_count": 6,
   "id": "c052cccf",
   "metadata": {},
   "outputs": [
    {
     "name": "stdout",
     "output_type": "stream",
     "text": [
      "<class 'pandas.core.frame.DataFrame'>\n",
      "RangeIndex: 40 entries, 0 to 39\n",
      "Data columns (total 8 columns):\n",
      " #   Column           Non-Null Count  Dtype  \n",
      "---  ------           --------------  -----  \n",
      " 0   name             40 non-null     object \n",
      " 1   price(₹)         40 non-null     float64\n",
      " 2   rating           7 non-null      object \n",
      " 3   engine (cc)      35 non-null     float64\n",
      " 4   torque_nm        5 non-null      object \n",
      " 5   torque_rpm       31 non-null     object \n",
      " 6   kerb_weight(kg)  40 non-null     int64  \n",
      " 7   mileage          40 non-null     object \n",
      "dtypes: float64(2), int64(1), object(5)\n",
      "memory usage: 2.6+ KB\n"
     ]
    }
   ],
   "source": [
    "vehicle_df.info()"
   ]
  },
  {
   "cell_type": "markdown",
   "id": "530fb860",
   "metadata": {},
   "source": [
    "- The data was collected by autocarindia recording the information about bikes under 2 lakhs. 40 observations and 8 variables"
   ]
  },
  {
   "cell_type": "markdown",
   "id": "8df16fea",
   "metadata": {},
   "source": [
    "## Univariate analysis"
   ]
  },
  {
   "cell_type": "code",
   "execution_count": 7,
   "id": "6babd5dc",
   "metadata": {},
   "outputs": [
    {
     "data": {
      "text/plain": [
       "<AxesSubplot:xlabel='price(₹)', ylabel='Count'>"
      ]
     },
     "execution_count": 7,
     "metadata": {},
     "output_type": "execute_result"
    },
    {
     "data": {
      "image/png": "[encoded data removed]",
      "text/plain": [
       "<Figure size 864x432 with 1 Axes>"
      ]
     },
     "metadata": {
      "needs_background": "light"
     },
     "output_type": "display_data"
    }
   ],
   "source": [
    "plt.figure(figsize=(12, 6))\n",
    "sns.histplot(vehicle_df['price(₹)'], bins=7, kde=True)"
   ]
  },
  {
   "cell_type": "markdown",
   "id": "b43654b5",
   "metadata": {},
   "source": [
    "- This plot shows the distribution of the prices of the vehicles. It appears to be slightly right-skewed, indicating a concentration of vehicles in the lower price range with some outliers."
   ]
  },
  {
   "cell_type": "code",
   "execution_count": 8,
   "id": "3480cb6a",
   "metadata": {},
   "outputs": [
    {
     "data": {
      "text/plain": [
       "<AxesSubplot:xlabel='engine (cc)', ylabel='Count'>"
      ]
     },
     "execution_count": 8,
     "metadata": {},
     "output_type": "execute_result"
    },
    {
     "data": {
      "image/png": "[encoded data removed]",
      "text/plain": [
       "<Figure size 864x432 with 1 Axes>"
      ]
     },
     "metadata": {
      "needs_background": "light"
     },
     "output_type": "display_data"
    }
   ],
   "source": [
    "plt.figure(figsize=(12, 6))\n",
    "sns.histplot(vehicle_df['engine (cc)'], bins=7, kde=True)"
   ]
  },
  {
   "cell_type": "markdown",
   "id": "33858908",
   "metadata": {},
   "source": [
    "- This histogram shows the distribution of engine capacities (in cc). \n",
    "- The distribution is relatively spread out, with most values clustered around the middle range."
   ]
  },
  {
   "cell_type": "code",
   "execution_count": 9,
   "id": "986049a3",
   "metadata": {},
   "outputs": [
    {
     "data": {
      "text/plain": [
       "<AxesSubplot:xlabel='kerb_weight(kg)', ylabel='Count'>"
      ]
     },
     "execution_count": 9,
     "metadata": {},
     "output_type": "execute_result"
    },
    {
     "data": {
      "image/png": "[encoded data removed]",
      "text/plain": [
       "<Figure size 864x432 with 1 Axes>"
      ]
     },
     "metadata": {
      "needs_background": "light"
     },
     "output_type": "display_data"
    }
   ],
   "source": [
    "plt.figure(figsize=(12, 6))\n",
    "sns.histplot(vehicle_df['kerb_weight(kg)'], bins=7, kde=True)"
   ]
  },
  {
   "cell_type": "markdown",
   "id": "b78ccab0",
   "metadata": {},
   "source": [
    "- The distribution of kerb weight is uniform, with a slight concentration in the middle range."
   ]
  },
  {
   "cell_type": "code",
   "execution_count": 10,
   "id": "6ca94bbf",
   "metadata": {},
   "outputs": [
    {
     "data": {
      "text/plain": [
       "<AxesSubplot:xlabel='rating', ylabel='Count'>"
      ]
     },
     "execution_count": 10,
     "metadata": {},
     "output_type": "execute_result"
    },
    {
     "data": {
      "image/png": "[encoded data removed]",
      "text/plain": [
       "<Figure size 864x432 with 1 Axes>"
      ]
     },
     "metadata": {
      "needs_background": "light"
     },
     "output_type": "display_data"
    }
   ],
   "source": [
    "plt.figure(figsize=(12, 6))\n",
    "sns.histplot(vehicle_df['rating'], bins=7, kde=True)"
   ]
  },
  {
   "cell_type": "markdown",
   "id": "908b8b38",
   "metadata": {},
   "source": [
    "- Due to many missing values the rating distribution is not so informative. \n",
    "- it shows that among the ratings available, they are mostly concentrated around 7 and 8."
   ]
  },
  {
   "cell_type": "markdown",
   "id": "a10f745b",
   "metadata": {},
   "source": [
    "## Bivariate analysis"
   ]
  },
  {
   "cell_type": "code",
   "execution_count": 11,
   "id": "da33f208",
   "metadata": {},
   "outputs": [],
   "source": [
    "def makeScatterPlot(variable_1, variable_2):\n",
    "    plt.scatter(vehicle_df[variable_1], vehicle_df[variable_2])\n",
    "    plt.title('Scatter Plot between ' + variable_1 + ' and ' + variable_2)\n",
    "    plt.xlabel(variable_1)\n",
    "    plt.ylabel(variable_2)\n",
    "    plt.show()"
   ]
  },
  {
   "cell_type": "code",
   "execution_count": 12,
   "id": "d588622e",
   "metadata": {},
   "outputs": [
    {
     "data": {
      "image/png": "[encoded data removed]",
      "text/plain": [
       "<Figure size 864x432 with 1 Axes>"
      ]
     },
     "metadata": {
      "needs_background": "light"
     },
     "output_type": "display_data"
    }
   ],
   "source": [
    "plt.figure(figsize=(12, 6))\n",
    "makeScatterPlot('engine (cc)', 'price(₹)')"
   ]
  },
  {
   "cell_type": "markdown",
   "id": "5a8e6a32",
   "metadata": {},
   "source": [
    "- The scatter plot does not indicate a strong linear relationship between engine capacity and price."
   ]
  },
  {
   "cell_type": "code",
   "execution_count": 13,
   "id": "9a2e3d58",
   "metadata": {},
   "outputs": [
    {
     "data": {
      "image/png": "[encoded data removed]",
      "text/plain": [
       "<Figure size 864x432 with 1 Axes>"
      ]
     },
     "metadata": {
      "needs_background": "light"
     },
     "output_type": "display_data"
    }
   ],
   "source": [
    "plt.figure(figsize=(12, 6))\n",
    "makeScatterPlot('kerb_weight(kg)', 'price(₹)')"
   ]
  },
  {
   "cell_type": "markdown",
   "id": "dda976fa",
   "metadata": {},
   "source": [
    "- Similar to engine capacity, there's no strong linear correlation between the kerb weight of the vehicles and their prices. "
   ]
  },
  {
   "cell_type": "code",
   "execution_count": 14,
   "id": "f1f0563c",
   "metadata": {},
   "outputs": [
    {
     "data": {
      "text/plain": [
       "Text(0.5, 1.0, 'Price Distribution by Rating')"
      ]
     },
     "execution_count": 14,
     "metadata": {},
     "output_type": "execute_result"
    },
    {
     "data": {
      "image/png": "[encoded data removed]",
      "text/plain": [
       "<Figure size 432x288 with 1 Axes>"
      ]
     },
     "metadata": {
      "needs_background": "light"
     },
     "output_type": "display_data"
    }
   ],
   "source": [
    "# Boxplot for price by rating\n",
    "sns.boxplot(x='rating', y='price(₹)', data=vehicle_df)\n",
    "plt.title('Price Distribution by Rating')"
   ]
  },
  {
   "cell_type": "markdown",
   "id": "7f25b057",
   "metadata": {},
   "source": [
    "- This plot shows the range of prices for each rating category. It helps identify how prices vary with different ratings."
   ]
  },
  {
   "cell_type": "code",
   "execution_count": 15,
   "id": "519501ab",
   "metadata": {},
   "outputs": [
    {
     "data": {
      "text/plain": [
       "Text(0.5, 1.0, 'Average Price by Rating')"
      ]
     },
     "execution_count": 15,
     "metadata": {},
     "output_type": "execute_result"
    },
    {
     "data": {
      "image/png": "[encoded data removed]",
      "text/plain": [
       "<Figure size 432x288 with 1 Axes>"
      ]
     },
     "metadata": {
      "needs_background": "light"
     },
     "output_type": "display_data"
    }
   ],
   "source": [
    "# Bar Plot for average price by rating\n",
    "avg_price_by_rating = vehicle_df.groupby('rating')['price(₹)'].mean().reset_index()\n",
    "sns.barplot(x='rating', y='price(₹)', data=avg_price_by_rating)\n",
    "plt.title('Average Price by Rating')"
   ]
  },
  {
   "cell_type": "markdown",
   "id": "ed244a14",
   "metadata": {},
   "source": [
    "- This plot presents the average price of vehicles for each rating category. "
   ]
  },
  {
   "cell_type": "markdown",
   "id": "829ac118",
   "metadata": {},
   "source": [
    "## Multivariate analysis"
   ]
  },
  {
   "cell_type": "code",
   "execution_count": 16,
   "id": "a78fd634",
   "metadata": {},
   "outputs": [
    {
     "data": {
      "image/png": "[encoded data removed]",
      "text/plain": [
       "<Figure size 540x540 with 12 Axes>"
      ]
     },
     "metadata": {
      "needs_background": "light"
     },
     "output_type": "display_data"
    }
   ],
   "source": [
    "# Pair plot\n",
    "sns.pairplot(vehicle_df)\n",
    "plt.suptitle('Pairwise Relationships Among Various Metrics', y=1.02)\n",
    "plt.show()"
   ]
  },
  {
   "cell_type": "markdown",
   "id": "e38f69cf",
   "metadata": {},
   "source": [
    "- The pairplot provides insights into the relationships between price, engine capacity, and kerb weight, as well as the distributions of each variable:"
   ]
  }
 ],
 "metadata": {
  "kernelspec": {
   "display_name": "Python 3 (ipykernel)",
   "language": "python",
   "name": "python3"
  },
  "language_info": {
   "codemirror_mode": {
    "name": "ipython",
    "version": 3
   },
   "file_extension": ".py",
   "mimetype": "text/x-python",
   "name": "python",
   "nbconvert_exporter": "python",
   "pygments_lexer": "ipython3",
   "version": "3.9.12"
  }
 },
 "nbformat": 4,
 "nbformat_minor": 5
}
